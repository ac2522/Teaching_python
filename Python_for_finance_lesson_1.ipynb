{
 "cells": [
  {
   "cell_type": "markdown",
   "metadata": {},
   "source": [
    "## Welcome\n"
   ]
  },
  {
   "cell_type": "code",
   "execution_count": 1,
   "metadata": {},
   "outputs": [
    {
     "data": {
      "text/plain": [
       "'\\n\\nYou can use 3 or triple speech marks'"
      ]
     },
     "execution_count": 1,
     "metadata": {},
     "output_type": "execute_result"
    }
   ],
   "source": [
    "# comment will not be read by computer\n",
    "# Used only for making code readable\n",
    "\n",
    "\"\"\"\n",
    "\n",
    "You can use 3 or triple speech marks\"\"\""
   ]
  },
  {
   "cell_type": "code",
   "execution_count": 2,
   "metadata": {},
   "outputs": [
    {
     "data": {
      "text/plain": [
       "\"\\nENTER goes to new line\\n\\nshift + ENTER to run code\\n\\nScissor (top left) will delete box of code\\n\\nEDIT will give you the option to und deleting a cell\\n\\nTo add a cell below the one you're currently on press + button  (top left)\\n\\n\""
      ]
     },
     "execution_count": 2,
     "metadata": {},
     "output_type": "execute_result"
    }
   ],
   "source": [
    "\"\"\"\n",
    "ENTER goes to new line\n",
    "\n",
    "shift + ENTER to run code\n",
    "\n",
    "Scissor (top left) will delete box of code\n",
    "\n",
    "EDIT will give you the option to und deleting a cell\n",
    "\n",
    "To add a cell below the one you're currently on press + button  (top left)\n",
    "\n",
    "\"\"\""
   ]
  },
  {
   "cell_type": "markdown",
   "metadata": {},
   "source": [
    "## Variables"
   ]
  },
  {
   "cell_type": "code",
   "execution_count": 3,
   "metadata": {},
   "outputs": [],
   "source": [
    "# variables are like names/nouns\n",
    "# you assign them with = sign\n",
    "# you delete them with del"
   ]
  },
  {
   "cell_type": "code",
   "execution_count": 6,
   "metadata": {},
   "outputs": [
    {
     "ename": "NameError",
     "evalue": "name 'alpha' is not defined",
     "output_type": "error",
     "traceback": [
      "\u001b[1;31m---------------------------------------------------------------------------\u001b[0m",
      "\u001b[1;31mNameError\u001b[0m                                 Traceback (most recent call last)",
      "\u001b[1;32m<ipython-input-6-f79deb0a15ef>\u001b[0m in \u001b[0;36m<module>\u001b[1;34m\u001b[0m\n\u001b[1;32m----> 1\u001b[1;33m \u001b[0malpha\u001b[0m\u001b[1;33m\u001b[0m\u001b[1;33m\u001b[0m\u001b[0m\n\u001b[0m\u001b[0;32m      2\u001b[0m \u001b[1;31m# currently variable alpha is unassigned so it will give error\u001b[0m\u001b[1;33m\u001b[0m\u001b[1;33m\u001b[0m\u001b[1;33m\u001b[0m\u001b[0m\n",
      "\u001b[1;31mNameError\u001b[0m: name 'alpha' is not defined"
     ]
    }
   ],
   "source": [
    "alpha\n",
    "# currently variable alpha is unassigned so it will give error"
   ]
  },
  {
   "cell_type": "code",
   "execution_count": 7,
   "metadata": {},
   "outputs": [],
   "source": [
    "alpha = 5"
   ]
  },
  {
   "cell_type": "code",
   "execution_count": 6,
   "metadata": {},
   "outputs": [
    {
     "name": "stdout",
     "output_type": "stream",
     "text": [
      "5\n"
     ]
    }
   ],
   "source": [
    "# now alpha is 5 so if we print alpha it will give 5\n",
    "print(alpha)"
   ]
  },
  {
   "cell_type": "code",
   "execution_count": 8,
   "metadata": {},
   "outputs": [
    {
     "name": "stdout",
     "output_type": "stream",
     "text": [
      "5 hello\n"
     ]
    }
   ],
   "source": [
    "# if we delete and then print alpha there will be an error\n",
    "\n",
    "print(alpha, 'hello')"
   ]
  },
  {
   "cell_type": "code",
   "execution_count": 8,
   "metadata": {},
   "outputs": [
    {
     "name": "stdout",
     "output_type": "stream",
     "text": [
      "2\n"
     ]
    }
   ],
   "source": [
    "# a variables value can be assigned to another variable\n",
    "var1 = 2\n",
    "var2 = 3\n",
    "var3 = var1\n",
    "print(var3)"
   ]
  },
  {
   "cell_type": "code",
   "execution_count": 9,
   "metadata": {},
   "outputs": [
    {
     "name": "stdout",
     "output_type": "stream",
     "text": [
      "var1\n"
     ]
    }
   ],
   "source": [
    "# However it is important to remember that a string is different to a variable\n",
    "var3 = \"var1\"\n",
    "print(var3)"
   ]
  },
  {
   "cell_type": "code",
   "execution_count": 10,
   "metadata": {},
   "outputs": [
    {
     "name": "stdout",
     "output_type": "stream",
     "text": [
      "5\n"
     ]
    }
   ],
   "source": [
    "# YOu can combine variables\n",
    "var3 = var1 + var2\n",
    "print(var3)"
   ]
  },
  {
   "cell_type": "code",
   "execution_count": 11,
   "metadata": {},
   "outputs": [
    {
     "name": "stdout",
     "output_type": "stream",
     "text": [
      "2\n",
      "4\n",
      "2\n",
      "_________\n",
      "4\n"
     ]
    }
   ],
   "source": [
    "alpha = alpha +3\n",
    "alpha %= 3\n",
    "alpha = alpha *3"
   ]
  },
  {
   "cell_type": "code",
   "execution_count": 11,
   "metadata": {},
   "outputs": [
    {
     "data": {
      "text/plain": [
       "'gghelo 34'"
      ]
     },
     "execution_count": 11,
     "metadata": {},
     "output_type": "execute_result"
    }
   ],
   "source": [
    "bet = 'gg'\n",
    "alpha =\"helo 34\"\n",
    "bet+alpha"
   ]
  },
  {
   "cell_type": "code",
   "execution_count": 17,
   "metadata": {},
   "outputs": [
    {
     "data": {
      "text/plain": [
       "[2, 7, 7, 5, 4, 6, 5, 3]"
      ]
     },
     "execution_count": 17,
     "metadata": {},
     "output_type": "execute_result"
    }
   ],
   "source": [
    "liat_ = [3,5,6,4,5,7,7,2]\n",
    "liat_[::-1]"
   ]
  },
  {
   "cell_type": "code",
   "execution_count": 14,
   "metadata": {},
   "outputs": [
    {
     "name": "stdout",
     "output_type": "stream",
     "text": [
      "n\n",
      "name is: alex\n",
      "my \n"
     ]
    }
   ],
   "source": [
    "# to call a specific letter or section of a string use []\n",
    "# In python the first letter will be the 0th\n",
    "var1 =  \"my name is: alex\"\n",
    "print(var1[3])\n",
    "# In this context  colon : means 'from the start' or 'to the end'\n",
    "print(var1[3:])  # from 4th position to the end\n",
    "print(var1[:3])  # from start to 4th position (doesnt include 4th position)"
   ]
  },
  {
   "cell_type": "code",
   "execution_count": 15,
   "metadata": {},
   "outputs": [
    {
     "name": "stdout",
     "output_type": "stream",
     "text": [
      "alex\n",
      "ale\n"
     ]
    }
   ],
   "source": [
    "# minus - means this many positions from the end\n",
    "print(var1[-4:])     # Four positions from the end to the end\n",
    "print(var1[-4:-1])   # Four positions from the end to one position from the end"
   ]
  },
  {
   "cell_type": "code",
   "execution_count": 16,
   "metadata": {},
   "outputs": [
    {
     "name": "stdout",
     "output_type": "stream",
     "text": [
      "xela :si eman ym\n"
     ]
    }
   ],
   "source": [
    "# special case [::-1] means in reverse order\n",
    "print(var1[::-1])"
   ]
  },
  {
   "cell_type": "code",
   "execution_count": 17,
   "metadata": {},
   "outputs": [
    {
     "name": "stdout",
     "output_type": "stream",
     "text": [
      "Hi\n",
      "104\n",
      "104\n",
      "age:  37  numbers  [2, 35, 6, 6]  library:  {'alpha': 1, 'beta': 2}\n"
     ]
    }
   ],
   "source": [
    "# functions in python can act like verbs or adjectives\n",
    "# and to use them either FUNCTION(PARAMETRES) or OBJECT.FUNCTION(PARAMETRES)\n",
    "print(\"Hi\")\n",
    "\n",
    "# they can be used together\n",
    "\n",
    "print(ord(\"h\"))  # here ord converts 'h' into an int value, print then prints that out\n",
    "\n",
    "# this is the same as doing them seperately\n",
    "\n",
    "var5 = ord(\"h\")\n",
    "print(var5)\n",
    "\n",
    "# you can print off multiple items in one line using commas\n",
    "\n",
    "print(\"age: \",37,\" numbers \", [2,35,6,6], \" library: \", {\"alpha\":1,\"beta\":2})"
   ]
  },
  {
   "cell_type": "code",
   "execution_count": null,
   "metadata": {},
   "outputs": [],
   "source": []
  },
  {
   "cell_type": "code",
   "execution_count": 19,
   "metadata": {},
   "outputs": [],
   "source": [
    "liat_.extend([3,4])"
   ]
  },
  {
   "cell_type": "code",
   "execution_count": 20,
   "metadata": {},
   "outputs": [
    {
     "data": {
      "text/plain": [
       "[3, 5, 6, 4, 5, 7, 7, 2, 3, 4]"
      ]
     },
     "execution_count": 20,
     "metadata": {},
     "output_type": "execute_result"
    }
   ],
   "source": [
    "liat_"
   ]
  },
  {
   "cell_type": "code",
   "execution_count": null,
   "metadata": {},
   "outputs": [],
   "source": []
  },
  {
   "cell_type": "code",
   "execution_count": null,
   "metadata": {},
   "outputs": [],
   "source": []
  },
  {
   "cell_type": "code",
   "execution_count": 22,
   "metadata": {},
   "outputs": [
    {
     "ename": "TypeError",
     "evalue": "'<' not supported between instances of 'str' and 'int'",
     "output_type": "error",
     "traceback": [
      "\u001b[1;31m---------------------------------------------------------------------------\u001b[0m",
      "\u001b[1;31mTypeError\u001b[0m                                 Traceback (most recent call last)",
      "\u001b[1;32m<ipython-input-22-920dcb3c9a67>\u001b[0m in \u001b[0;36m<module>\u001b[1;34m\u001b[0m\n\u001b[0;32m      1\u001b[0m \u001b[1;31m# LIST.sort() is a function that sorts ints and floats in lists\u001b[0m\u001b[1;33m\u001b[0m\u001b[1;33m\u001b[0m\u001b[1;33m\u001b[0m\u001b[0m\n\u001b[1;32m----> 2\u001b[1;33m \u001b[1;33m[\u001b[0m\u001b[1;36m3\u001b[0m\u001b[1;33m,\u001b[0m\u001b[1;36m2\u001b[0m\u001b[1;33m,\u001b[0m\u001b[1;36m1\u001b[0m\u001b[1;33m,\u001b[0m\u001b[1;36m4\u001b[0m\u001b[1;33m,\u001b[0m\u001b[1;34m\"five\"\u001b[0m\u001b[1;33m]\u001b[0m\u001b[1;33m.\u001b[0m\u001b[0msort\u001b[0m\u001b[1;33m(\u001b[0m\u001b[1;33m)\u001b[0m\u001b[1;33m\u001b[0m\u001b[1;33m\u001b[0m\u001b[0m\n\u001b[0m",
      "\u001b[1;31mTypeError\u001b[0m: '<' not supported between instances of 'str' and 'int'"
     ]
    }
   ],
   "source": [
    "# LIST.sort() is a function that sorts ints and floats in lists\n",
    "[3,2,1,4,\"five\"].sort()"
   ]
  },
  {
   "cell_type": "code",
   "execution_count": 24,
   "metadata": {},
   "outputs": [
    {
     "name": "stdout",
     "output_type": "stream",
     "text": [
      "[5, 4, 3, 2, 1]\n"
     ]
    }
   ],
   "source": [
    "var5 = [3,2,1,4,5]\n",
    "var5.sort(reverse=True)    # OBJECT.FUNCTION(PARAMETRES) \n",
    "print(var5)"
   ]
  },
  {
   "cell_type": "code",
   "execution_count": 20,
   "metadata": {},
   "outputs": [
    {
     "name": "stdout",
     "output_type": "stream",
     "text": [
      "Help on list object:\n",
      "\n",
      "class list(object)\n",
      " |  list(iterable=(), /)\n",
      " |  \n",
      " |  Built-in mutable sequence.\n",
      " |  \n",
      " |  If no argument is given, the constructor creates a new empty list.\n",
      " |  The argument must be an iterable if specified.\n",
      " |  \n",
      " |  Methods defined here:\n",
      " |  \n",
      " |  __add__(self, value, /)\n",
      " |      Return self+value.\n",
      " |  \n",
      " |  __contains__(self, key, /)\n",
      " |      Return key in self.\n",
      " |  \n",
      " |  __delitem__(self, key, /)\n",
      " |      Delete self[key].\n",
      " |  \n",
      " |  __eq__(self, value, /)\n",
      " |      Return self==value.\n",
      " |  \n",
      " |  __ge__(self, value, /)\n",
      " |      Return self>=value.\n",
      " |  \n",
      " |  __getattribute__(self, name, /)\n",
      " |      Return getattr(self, name).\n",
      " |  \n",
      " |  __getitem__(...)\n",
      " |      x.__getitem__(y) <==> x[y]\n",
      " |  \n",
      " |  __gt__(self, value, /)\n",
      " |      Return self>value.\n",
      " |  \n",
      " |  __iadd__(self, value, /)\n",
      " |      Implement self+=value.\n",
      " |  \n",
      " |  __imul__(self, value, /)\n",
      " |      Implement self*=value.\n",
      " |  \n",
      " |  __init__(self, /, *args, **kwargs)\n",
      " |      Initialize self.  See help(type(self)) for accurate signature.\n",
      " |  \n",
      " |  __iter__(self, /)\n",
      " |      Implement iter(self).\n",
      " |  \n",
      " |  __le__(self, value, /)\n",
      " |      Return self<=value.\n",
      " |  \n",
      " |  __len__(self, /)\n",
      " |      Return len(self).\n",
      " |  \n",
      " |  __lt__(self, value, /)\n",
      " |      Return self<value.\n",
      " |  \n",
      " |  __mul__(self, value, /)\n",
      " |      Return self*value.\n",
      " |  \n",
      " |  __ne__(self, value, /)\n",
      " |      Return self!=value.\n",
      " |  \n",
      " |  __repr__(self, /)\n",
      " |      Return repr(self).\n",
      " |  \n",
      " |  __reversed__(self, /)\n",
      " |      Return a reverse iterator over the list.\n",
      " |  \n",
      " |  __rmul__(self, value, /)\n",
      " |      Return value*self.\n",
      " |  \n",
      " |  __setitem__(self, key, value, /)\n",
      " |      Set self[key] to value.\n",
      " |  \n",
      " |  __sizeof__(self, /)\n",
      " |      Return the size of the list in memory, in bytes.\n",
      " |  \n",
      " |  append(self, object, /)\n",
      " |      Append object to the end of the list.\n",
      " |  \n",
      " |  clear(self, /)\n",
      " |      Remove all items from list.\n",
      " |  \n",
      " |  copy(self, /)\n",
      " |      Return a shallow copy of the list.\n",
      " |  \n",
      " |  count(self, value, /)\n",
      " |      Return number of occurrences of value.\n",
      " |  \n",
      " |  extend(self, iterable, /)\n",
      " |      Extend list by appending elements from the iterable.\n",
      " |  \n",
      " |  index(self, value, start=0, stop=9223372036854775807, /)\n",
      " |      Return first index of value.\n",
      " |      \n",
      " |      Raises ValueError if the value is not present.\n",
      " |  \n",
      " |  insert(self, index, object, /)\n",
      " |      Insert object before index.\n",
      " |  \n",
      " |  pop(self, index=-1, /)\n",
      " |      Remove and return item at index (default last).\n",
      " |      \n",
      " |      Raises IndexError if list is empty or index is out of range.\n",
      " |  \n",
      " |  remove(self, value, /)\n",
      " |      Remove first occurrence of value.\n",
      " |      \n",
      " |      Raises ValueError if the value is not present.\n",
      " |  \n",
      " |  reverse(self, /)\n",
      " |      Reverse *IN PLACE*.\n",
      " |  \n",
      " |  sort(self, /, *, key=None, reverse=False)\n",
      " |      Stable sort *IN PLACE*.\n",
      " |  \n",
      " |  ----------------------------------------------------------------------\n",
      " |  Static methods defined here:\n",
      " |  \n",
      " |  __new__(*args, **kwargs) from builtins.type\n",
      " |      Create and return a new object.  See help(type) for accurate signature.\n",
      " |  \n",
      " |  ----------------------------------------------------------------------\n",
      " |  Data and other attributes defined here:\n",
      " |  \n",
      " |  __hash__ = None\n",
      "\n"
     ]
    }
   ],
   "source": [
    "# To look at functions for specific object OBJECT.(TAB)\n",
    "# or type help(OBJECT), this will give ful in-depth guide\n",
    "help(var5)"
   ]
  },
  {
   "cell_type": "code",
   "execution_count": 21,
   "metadata": {},
   "outputs": [
    {
     "name": "stdout",
     "output_type": "stream",
     "text": [
      "[5, 4, 3, 2, 1]\n"
     ]
    }
   ],
   "source": [
    "# To look at parametres for specific function FUNCTION((SHIFT TAB))\n",
    "var5 = [3,2,1,4,5]\n",
    "var5.sort(reverse = True)    #Click shift tab within brackets and it will show you options and how to use them\n",
    "print(var5)                  \n"
   ]
  },
  {
   "cell_type": "code",
   "execution_count": 22,
   "metadata": {},
   "outputs": [
    {
     "name": "stdout",
     "output_type": "stream",
     "text": [
      "None\n"
     ]
    }
   ],
   "source": [
    "# Also on SHift tabbing, the guide tells you that .sort is \"in place\", this means you don't need to assign it.\n",
    "var5 = var5.sort() # and not checking the guide can cause problems\n",
    "print(var5)"
   ]
  },
  {
   "cell_type": "code",
   "execution_count": 23,
   "metadata": {},
   "outputs": [
    {
     "name": "stdout",
     "output_type": "stream",
     "text": [
      "Name is alex, age is 20\n"
     ]
    }
   ],
   "source": [
    "# STRING.format(PARAMETRES) is an important function as it allows you to combine variable in the middle of strings\n",
    "var1 = \"alex\"; var2 = 20\n",
    "print(\"Name is {name}, age is {age}\".format(name=var1, age=var2))"
   ]
  },
  {
   "cell_type": "code",
   "execution_count": 24,
   "metadata": {},
   "outputs": [
    {
     "name": "stdout",
     "output_type": "stream",
     "text": [
      "22\n"
     ]
    }
   ],
   "source": [
    "# from the last box you can see I combined separate lines with semi colon ;\n",
    "# not particularly good idea for formatting or readability, but it shrinks the number of lines...\n",
    "var1 = 20; var1 += 2\n",
    "print(var1)"
   ]
  },
  {
   "cell_type": "code",
   "execution_count": 47,
   "metadata": {},
   "outputs": [
    {
     "name": "stdout",
     "output_type": "stream",
     "text": [
      "my empty list: []\n",
      "my non-empty list: [[3, 4], 1, 1]\n",
      "my empty list:  [[3, 4], 1, 1]\n"
     ]
    }
   ],
   "source": [
    "# a list is a linear array of objects\n",
    "# It can be created with []\n",
    "var2 = []\n",
    "print(\"my empty list: {list}\".format(list=var2)) \n",
    "var2.append([3,4])  # also in-place function\n",
    "var2.extend([1,1])\n",
    "print(\"my non-empty list: {list}\".format(list=var2)) \n",
    "print(\"my empty list: \", var2)   # multiple ways to do things"
   ]
  },
  {
   "cell_type": "code",
   "execution_count": 82,
   "metadata": {},
   "outputs": [
    {
     "name": "stdout",
     "output_type": "stream",
     "text": [
      "5\n",
      "_____________\n",
      "in position 0: we have 3\n",
      "in position 1: we have 5\n",
      "in position 2: we have 8\n",
      "in position 3: we have [2, 'hi', {'alpha': 1, 'beta': 2}]\n",
      "in position 4: we have hello\n"
     ]
    }
   ],
   "source": [
    "# anything can go in list, a list can go in a list within a list within a list\n",
    "# dictionary can, anything, though if you put a tuple in a list you can't remove objects from the tuple\n",
    "list1 = [3, 5, 8, [2, \"hi\", {\"alpha\":1,\"beta\":2}], \"hello\"]\n",
    "print(len(list1)) #this may look at first glance confusing but you can break it down\n",
    "print(\"_____________\")\n",
    "\n",
    "for i, obj in enumerate(list1):        #we haven't looked at function enumerate but basically it \n",
    "    print(\"in position {pos}: we have {ob}\".format(pos=i, ob=obj))"
   ]
  },
  {
   "cell_type": "code",
   "execution_count": 83,
   "metadata": {},
   "outputs": [
    {
     "name": "stdout",
     "output_type": "stream",
     "text": [
      "[3, 5, 8]\n",
      "[2, 'hi', {'alpha': 1, 'beta': 2}]\n",
      "hi\n",
      "1\n"
     ]
    }
   ],
   "source": [
    "# YOu can call a list like a string\n",
    "print(list1[:3])\n",
    "\n",
    "inner_list = list1[3]\n",
    "print(inner_list)\n",
    "print(inner_list[1])           # same as list1[3][1]\n",
    "print(inner_list[-1]['alpha']) # same as list1[3][-1]['alpha'] or inner_list[2]['alpha']"
   ]
  },
  {
   "cell_type": "code",
   "execution_count": 84,
   "metadata": {},
   "outputs": [
    {
     "name": "stdout",
     "output_type": "stream",
     "text": [
      "[3, 5, 8, [2, 'hi', {'alpha': 1, 'beta': 2}], 'hello']\n",
      "[9, 5, 8, [2, 'hi', {'alpha': 1, 'beta': 2}], 'hello']\n"
     ]
    }
   ],
   "source": [
    "# you can assign and change specific sections\n",
    "print(list1)\n",
    "list1[0] = 3 * len(list1[3])\n",
    "print(list1)"
   ]
  },
  {
   "cell_type": "code",
   "execution_count": 25,
   "metadata": {},
   "outputs": [],
   "source": [
    "a = [3, 5, 8, [2, 'hi', {'alpha': 1, 'beta': 2}], 'hello']"
   ]
  },
  {
   "cell_type": "code",
   "execution_count": 30,
   "metadata": {},
   "outputs": [],
   "source": [
    "dict_ = {'alpha':1, 'key':'3'}"
   ]
  },
  {
   "cell_type": "code",
   "execution_count": 31,
   "metadata": {},
   "outputs": [
    {
     "data": {
      "text/plain": [
       "'3'"
      ]
     },
     "execution_count": 31,
     "metadata": {},
     "output_type": "execute_result"
    }
   ],
   "source": [
    "dict_['key']"
   ]
  },
  {
   "cell_type": "code",
   "execution_count": null,
   "metadata": {},
   "outputs": [],
   "source": []
  },
  {
   "cell_type": "code",
   "execution_count": 65,
   "metadata": {},
   "outputs": [
    {
     "name": "stdout",
     "output_type": "stream",
     "text": [
      "[3, 5, 8, [2, 'hi', {'alpha': 1, 'beta': 2}], 'hello']\n",
      "[3, 5, [2, 'hi', {'alpha': 1, 'beta': 2}], 'hello']\n",
      "[3, 5, 'hello']\n"
     ]
    }
   ],
   "source": [
    "# multiple ways of deleting values\n",
    "print(list1)\n",
    "del list1[2]\n",
    "print(list1)\n",
    "list1.pop(2)\n",
    "print(list1)\n",
    "\n",
    "# When unsure how to do google search OR LIST.(TAB)"
   ]
  },
  {
   "cell_type": "markdown",
   "metadata": {},
   "source": [
    "## Dictionaries"
   ]
  },
  {
   "cell_type": "code",
   "execution_count": 50,
   "metadata": {},
   "outputs": [
    {
     "ename": "KeyError",
     "evalue": "0",
     "output_type": "error",
     "traceback": [
      "\u001b[1;31m---------------------------------------------------------------------------\u001b[0m",
      "\u001b[1;31mKeyError\u001b[0m                                  Traceback (most recent call last)",
      "\u001b[1;32m<ipython-input-50-c7d08639f0d2>\u001b[0m in \u001b[0;36m<module>\u001b[1;34m\u001b[0m\n\u001b[0;32m      2\u001b[0m \u001b[1;31m# it is unordered so cannot call dict1[0]\u001b[0m\u001b[1;33m\u001b[0m\u001b[1;33m\u001b[0m\u001b[1;33m\u001b[0m\u001b[0m\n\u001b[0;32m      3\u001b[0m \u001b[0mdict1\u001b[0m \u001b[1;33m=\u001b[0m \u001b[1;33m{\u001b[0m\u001b[1;34m'key1'\u001b[0m\u001b[1;33m:\u001b[0m \u001b[1;36m0\u001b[0m\u001b[1;33m,\u001b[0m\u001b[1;34m'key2'\u001b[0m\u001b[1;33m:\u001b[0m \u001b[1;36m1\u001b[0m\u001b[1;33m,\u001b[0m\u001b[1;34m'key3'\u001b[0m\u001b[1;33m:\u001b[0m \u001b[1;36m2\u001b[0m\u001b[1;33m,\u001b[0m\u001b[1;34m'key4'\u001b[0m\u001b[1;33m:\u001b[0m \u001b[1;36m3\u001b[0m\u001b[1;33m,\u001b[0m\u001b[1;34m'key5'\u001b[0m\u001b[1;33m:\u001b[0m \u001b[1;36m4\u001b[0m\u001b[1;33m}\u001b[0m\u001b[1;33m\u001b[0m\u001b[1;33m\u001b[0m\u001b[0m\n\u001b[1;32m----> 4\u001b[1;33m \u001b[0mdict1\u001b[0m\u001b[1;33m[\u001b[0m\u001b[1;36m0\u001b[0m\u001b[1;33m]\u001b[0m\u001b[1;33m\u001b[0m\u001b[1;33m\u001b[0m\u001b[0m\n\u001b[0m",
      "\u001b[1;31mKeyError\u001b[0m: 0"
     ]
    }
   ],
   "source": [
    "# created with {}, it is made up of pairs (keyword, value)\n",
    "# it is unordered so cannot call dict1[0]\n",
    "dict1 = {'key1': 0,'key2': 1,'key3': 2,'key4': 3,'key5': 4}\n",
    "dict1[0]"
   ]
  },
  {
   "cell_type": "code",
   "execution_count": 51,
   "metadata": {},
   "outputs": [
    {
     "name": "stdout",
     "output_type": "stream",
     "text": [
      "dict_keys(['key1', 'key2', 'key3', 'key4', 'key5', 'key6'])\n"
     ]
    }
   ],
   "source": [
    "dict1.update({'key6': 5}) # instead of append\n",
    "print(dict1.keys())"
   ]
  },
  {
   "cell_type": "code",
   "execution_count": 54,
   "metadata": {},
   "outputs": [
    {
     "name": "stdout",
     "output_type": "stream",
     "text": [
      "5\n",
      "2\n",
      "dict_values([0, 1, 3, 4, 5])\n"
     ]
    }
   ],
   "source": [
    "print(dict1['key6'])\n",
    "print(dict1.pop('key3'))\n",
    "print(dict1.values())"
   ]
  },
  {
   "cell_type": "markdown",
   "metadata": {},
   "source": [
    "## Tuples and sets"
   ]
  },
  {
   "cell_type": "code",
   "execution_count": 72,
   "metadata": {},
   "outputs": [
    {
     "name": "stdout",
     "output_type": "stream",
     "text": [
      "(1, 2, 3, 4, 5)\n",
      "(4, 5)\n"
     ]
    }
   ],
   "source": [
    "my_tuple = (1,2,3,4,5)\n",
    "print(my_tuple)\n",
    "# can't add or delete  (immutable)\n",
    "print(my_tuple[3:]) # pretty boring, and we won't really use them"
   ]
  },
  {
   "cell_type": "code",
   "execution_count": 90,
   "metadata": {},
   "outputs": [
    {
     "name": "stdout",
     "output_type": "stream",
     "text": [
      "sets don't contain duplicates : {1, 2, 3, 4, 5, 8}\n",
      "sets are not ordered : {2, 3, 77}\n"
     ]
    },
    {
     "ename": "TypeError",
     "evalue": "'set' object is not subscriptable",
     "output_type": "error",
     "traceback": [
      "\u001b[1;31m---------------------------------------------------------------------------\u001b[0m",
      "\u001b[1;31mTypeError\u001b[0m                                 Traceback (most recent call last)",
      "\u001b[1;32m<ipython-input-90-f09d385d8c2a>\u001b[0m in \u001b[0;36m<module>\u001b[1;34m\u001b[0m\n\u001b[0;32m      3\u001b[0m \u001b[0mprint\u001b[0m\u001b[1;33m(\u001b[0m\u001b[1;34m\"sets don't contain duplicates :\"\u001b[0m\u001b[1;33m,\u001b[0m\u001b[0mset1\u001b[0m\u001b[1;33m)\u001b[0m\u001b[1;33m\u001b[0m\u001b[1;33m\u001b[0m\u001b[0m\n\u001b[0;32m      4\u001b[0m \u001b[0mprint\u001b[0m\u001b[1;33m(\u001b[0m\u001b[1;34m\"sets are not ordered :\"\u001b[0m\u001b[1;33m,\u001b[0m\u001b[0mset2\u001b[0m\u001b[1;33m)\u001b[0m\u001b[1;33m\u001b[0m\u001b[1;33m\u001b[0m\u001b[0m\n\u001b[1;32m----> 5\u001b[1;33m \u001b[0mset2\u001b[0m\u001b[1;33m[\u001b[0m\u001b[1;36m0\u001b[0m\u001b[1;33m]\u001b[0m\u001b[1;33m\u001b[0m\u001b[1;33m\u001b[0m\u001b[0m\n\u001b[0m",
      "\u001b[1;31mTypeError\u001b[0m: 'set' object is not subscriptable"
     ]
    }
   ],
   "source": [
    "set1 = {1, 2 , 2, 4,5,8, 3}\n",
    "set2 = {3, 2, 3,77}\n",
    "print(\"sets don't contain duplicates :\",set1)\n",
    "print(\"sets are not ordered :\",set2)\n",
    "set2[0]"
   ]
  },
  {
   "cell_type": "code",
   "execution_count": 93,
   "metadata": {},
   "outputs": [
    {
     "name": "stdout",
     "output_type": "stream",
     "text": [
      "{2, 3}\n",
      "{1, 2, 3, 4, 5, 8, 77}\n"
     ]
    }
   ],
   "source": [
    "print(set1.intersection(set2)) # items in both set 1 and set2, but not in only one\n",
    "print(set2.union(set1)) # items in both, or just 1"
   ]
  },
  {
   "cell_type": "code",
   "execution_count": 101,
   "metadata": {},
   "outputs": [
    {
     "name": "stdout",
     "output_type": "stream",
     "text": [
      "['hello', 9, 9, 5, 1, 1, 2, 5, 5, 5, 5, 5, 5, 5, 'hello']\n",
      "{1, 2, 5, 9, 'hello'}\n",
      "[1, 2, 5]\n"
     ]
    }
   ],
   "source": [
    "# converting list to set and back\n",
    "list2 = ['hello',9,9,5,1,1,2,5,5,5,5,5,5,5,'hello']\n",
    "print(list2)\n",
    "print(set(list2))\n",
    "print(list(set(list2).intersection(set1)))\n",
    "# list1 into set intersects with set1 then back into list"
   ]
  },
  {
   "cell_type": "markdown",
   "metadata": {},
   "source": [
    "## operators"
   ]
  },
  {
   "cell_type": "raw",
   "metadata": {},
   "source": [
    "\"\"\"\n",
    "\n",
    "/ = divide \n",
    "* = multiply\n",
    "// = divides and rounds down\n",
    "+,- add, minus\n",
    "** = power of         (if you do 0.5 that is square route)\n",
    "% = remainder   (X % Y will be the remainder when you divide X by Y)\n",
    "\n",
    "3+4*2  is equal to 11  (bidmas/bodmas/pemdsa)\n",
    "\n",
    "> < more than, less than\n",
    "\n",
    "True False         dont know how to explain these two\n",
    "and or not\n",
    "\n",
    "== is equal to (compares) \n",
    "!= is not equal to (compares)\n",
    "+=, *=, -=, /=, %=      X += 1 is same as X = X+1\n",
    "\n",
    "\"\"\""
   ]
  },
  {
   "cell_type": "code",
   "execution_count": 109,
   "metadata": {},
   "outputs": [
    {
     "name": "stdout",
     "output_type": "stream",
     "text": [
      "False\n",
      "True\n",
      "False\n",
      "True\n"
     ]
    }
   ],
   "source": [
    "x=7\n",
    "print(3 > 7)\n",
    "print(8 != x)\n",
    "print(x != 8 and x==9)\n",
    "print(x != 8 or x==9)"
   ]
  },
  {
   "cell_type": "code",
   "execution_count": 111,
   "metadata": {},
   "outputs": [
    {
     "name": "stdout",
     "output_type": "stream",
     "text": [
      "False\n",
      "True\n"
     ]
    }
   ],
   "source": [
    "print(not (x != 8 or x==9))  # not takes next statement and switches it\n",
    "print(not (x != 8 and x==9))"
   ]
  },
  {
   "cell_type": "markdown",
   "metadata": {},
   "source": [
    "## Loops"
   ]
  },
  {
   "cell_type": "code",
   "execution_count": 34,
   "metadata": {},
   "outputs": [
    {
     "name": "stdout",
     "output_type": "stream",
     "text": [
      "wrong\n"
     ]
    }
   ],
   "source": [
    "X=3\n",
    "# note one equal sign\n",
    "if X == 5: # two equals sign since comparing\n",
    "    print(\"yes\") # note that after a colon you have to indent\n",
    "else:\n",
    "    print(\"wrong\")"
   ]
  },
  {
   "cell_type": "code",
   "execution_count": 36,
   "metadata": {},
   "outputs": [
    {
     "name": "stdout",
     "output_type": "stream",
     "text": [
      "0 : \n",
      "1 : \n",
      "2 : \n",
      "___\n"
     ]
    }
   ],
   "source": [
    "# FOR will iterate a statement a certain number of times \n",
    "\n",
    "for i in range(3):  # iterates 3 times, on first i=0,second i=1, third i=2\n",
    "    print(i,\": \")\n",
    "print(\"___\") # everything indented will be looped, everything outside wont be\n",
    "\n"
   ]
  },
  {
   "cell_type": "code",
   "execution_count": 121,
   "metadata": {},
   "outputs": [
    {
     "name": "stdout",
     "output_type": "stream",
     "text": [
      "0 :  9\n",
      "1 :  5\n",
      "2 :  8\n",
      "3 :  [2, 'hi', {'alpha': 1, 'beta': 2}]\n",
      "4 :  hello\n",
      "5 :  hello\n",
      "6 :  9\n",
      "7 :  9\n",
      "8 :  5\n",
      "9 :  hello\n",
      "10 :  9\n",
      "11 :  9\n",
      "12 :  5\n"
     ]
    }
   ],
   "source": [
    "x=0\n",
    "for i in list1: # will iterate every item in i\n",
    "    print(x,\": \",i)\n",
    "    x+=1"
   ]
  },
  {
   "cell_type": "code",
   "execution_count": 123,
   "metadata": {},
   "outputs": [
    {
     "name": "stdout",
     "output_type": "stream",
     "text": [
      "0\n",
      "5\n",
      "10\n",
      "15\n",
      "20\n",
      "25\n",
      "over\n"
     ]
    }
   ],
   "source": [
    "# WHILE takes a statement and after every iteration checks \n",
    "\n",
    "x=0\n",
    "while x < 30:\n",
    "    print(x)\n",
    "    x += 5\n",
    "print(\"over\")"
   ]
  },
  {
   "cell_type": "code",
   "execution_count": 129,
   "metadata": {},
   "outputs": [
    {
     "name": "stdout",
     "output_type": "stream",
     "text": [
      "0\n",
      "-5\n",
      "-10\n",
      "-15\n",
      "-20\n",
      "-25\n",
      "-30\n",
      "-35\n",
      "-40\n",
      "-45\n",
      "-50\n",
      "over\n"
     ]
    }
   ],
   "source": [
    "# to break out of a loop use BREAK\n",
    "# you can combine loops\n",
    "\n",
    "x=0\n",
    "while x<30:\n",
    "    if x<-50:\n",
    "        break\n",
    "    print(x)\n",
    "    x-=5\n",
    "print(\"over\")\n"
   ]
  },
  {
   "cell_type": "code",
   "execution_count": 130,
   "metadata": {},
   "outputs": [
    {
     "name": "stdout",
     "output_type": "stream",
     "text": [
      "variable 1 not working\n"
     ]
    }
   ],
   "source": [
    "\"\"\"\n",
    "TRY:\n",
    "    CODE              if there is an error don't stop code \n",
    "EXCEPT:               instead run EXCEPT\n",
    "    Code\n",
    "\n",
    "\"\"\"\n",
    "\n",
    "\n",
    "try:\n",
    "    print(variable1)\n",
    "except:\n",
    "    print(\"variable 1 not working\")"
   ]
  },
  {
   "cell_type": "code",
   "execution_count": null,
   "metadata": {},
   "outputs": [],
   "source": [
    "def function_name(paramete):\n",
    "    do something\n",
    "    return object"
   ]
  },
  {
   "cell_type": "code",
   "execution_count": null,
   "metadata": {},
   "outputs": [],
   "source": []
  },
  {
   "cell_type": "code",
   "execution_count": null,
   "metadata": {},
   "outputs": [],
   "source": []
  },
  {
   "cell_type": "code",
   "execution_count": null,
   "metadata": {},
   "outputs": [],
   "source": []
  },
  {
   "cell_type": "code",
   "execution_count": null,
   "metadata": {},
   "outputs": [],
   "source": []
  },
  {
   "cell_type": "markdown",
   "metadata": {},
   "source": [
    "## Functions"
   ]
  },
  {
   "cell_type": "code",
   "execution_count": 132,
   "metadata": {},
   "outputs": [
    {
     "name": "stdout",
     "output_type": "stream",
     "text": [
      "odd\n",
      "even\n"
     ]
    }
   ],
   "source": [
    "\"\"\"\n",
    "def FUNC_NAME(PARAMETRES):\n",
    "    SOMETHING\n",
    "    return\n",
    "\n",
    "\"\"\"\n",
    "\n",
    "\n",
    "\n",
    "\n",
    "def odd_even(num):\n",
    "    if num % 2 == 0:\n",
    "        return \"even\"   # you can return an item\n",
    "    else:\n",
    "        print(\"odd\")     # or you can print and then simply return\n",
    "        return\n",
    "    \n",
    "# to call:   FUNC_NAME(PARAMETRES)\n",
    "\n",
    "odd_even(3) # this will print\n",
    "var1 = odd_even(10068) # this will assign\n",
    "print(var1)"
   ]
  },
  {
   "cell_type": "code",
   "execution_count": 136,
   "metadata": {},
   "outputs": [
    {
     "name": "stdout",
     "output_type": "stream",
     "text": [
      "4\n"
     ]
    },
    {
     "ename": "NameError",
     "evalue": "name 'arb1' is not defined",
     "output_type": "error",
     "traceback": [
      "\u001b[1;31m---------------------------------------------------------------------------\u001b[0m",
      "\u001b[1;31mNameError\u001b[0m                                 Traceback (most recent call last)",
      "\u001b[1;32m<ipython-input-136-4c09d39010af>\u001b[0m in \u001b[0;36m<module>\u001b[1;34m\u001b[0m\n\u001b[0;32m      9\u001b[0m \u001b[0marb2\u001b[0m \u001b[1;33m=\u001b[0m \u001b[0marbitrary\u001b[0m\u001b[1;33m(\u001b[0m\u001b[1;33m)\u001b[0m\u001b[1;33m\u001b[0m\u001b[1;33m\u001b[0m\u001b[0m\n\u001b[0;32m     10\u001b[0m \u001b[0mprint\u001b[0m\u001b[1;33m(\u001b[0m\u001b[0marb2\u001b[0m\u001b[1;33m)\u001b[0m\u001b[1;33m\u001b[0m\u001b[1;33m\u001b[0m\u001b[0m\n\u001b[1;32m---> 11\u001b[1;33m \u001b[0mprint\u001b[0m\u001b[1;33m(\u001b[0m\u001b[0marb1\u001b[0m\u001b[1;33m)\u001b[0m\u001b[1;33m\u001b[0m\u001b[1;33m\u001b[0m\u001b[0m\n\u001b[0m",
      "\u001b[1;31mNameError\u001b[0m: name 'arb1' is not defined"
     ]
    }
   ],
   "source": [
    "# variable inside a fucntion are not remembered if you do not return them\n",
    "\n",
    "def arbitrary():\n",
    "    arb1 =3\n",
    "    arb2 =4\n",
    "    return arb2\n",
    "\n",
    "\n",
    "arb2 = arbitrary()\n",
    "print(arb2)\n",
    "print(arb1)"
   ]
  },
  {
   "cell_type": "code",
   "execution_count": null,
   "metadata": {},
   "outputs": [],
   "source": []
  },
  {
   "cell_type": "code",
   "execution_count": null,
   "metadata": {},
   "outputs": [],
   "source": []
  },
  {
   "cell_type": "code",
   "execution_count": null,
   "metadata": {},
   "outputs": [],
   "source": [
    "for i in [0,1,2]:\n",
    "    print(i)"
   ]
  },
  {
   "cell_type": "code",
   "execution_count": null,
   "metadata": {},
   "outputs": [],
   "source": []
  },
  {
   "cell_type": "code",
   "execution_count": null,
   "metadata": {},
   "outputs": [],
   "source": []
  },
  {
   "cell_type": "code",
   "execution_count": null,
   "metadata": {},
   "outputs": [],
   "source": []
  },
  {
   "cell_type": "code",
   "execution_count": null,
   "metadata": {},
   "outputs": [],
   "source": []
  },
  {
   "cell_type": "markdown",
   "metadata": {},
   "source": [
    "## Basic functions"
   ]
  },
  {
   "cell_type": "code",
   "execution_count": null,
   "metadata": {},
   "outputs": [],
   "source": [
    "# print()\n",
    "# range()\n",
    "# split()"
   ]
  },
  {
   "cell_type": "code",
   "execution_count": null,
   "metadata": {},
   "outputs": [],
   "source": []
  },
  {
   "cell_type": "code",
   "execution_count": null,
   "metadata": {},
   "outputs": [],
   "source": []
  },
  {
   "cell_type": "markdown",
   "metadata": {},
   "source": [
    "#### 1) Mina has been told by John that to learn welsh you have to speak backwards. Can you build a function that translates a sentance into welsh.\n",
    "\n",
    "#### 2) Bram tells her that she is being stupid that the order of the words should not change.\n",
    "\n",
    "#### 3) Quincey being a good guy tells her that they're both wrong. That she simply has to scale the language by one to the right a->b, b->c, z->a\n",
    "#### hint( mess around with ord() and chr)\n",
    "\n",
    "#### 4) Quincey also tells her that all languages can be translated this way. Create a function where you input string and how many characters to slide"
   ]
  },
  {
   "cell_type": "code",
   "execution_count": null,
   "metadata": {},
   "outputs": [],
   "source": []
  },
  {
   "cell_type": "code",
   "execution_count": null,
   "metadata": {},
   "outputs": [],
   "source": []
  },
  {
   "cell_type": "code",
   "execution_count": null,
   "metadata": {},
   "outputs": [],
   "source": []
  },
  {
   "cell_type": "code",
   "execution_count": null,
   "metadata": {},
   "outputs": [],
   "source": []
  },
  {
   "cell_type": "code",
   "execution_count": null,
   "metadata": {},
   "outputs": [],
   "source": []
  },
  {
   "cell_type": "code",
   "execution_count": null,
   "metadata": {},
   "outputs": [],
   "source": []
  },
  {
   "cell_type": "markdown",
   "metadata": {},
   "source": [
    "## answers"
   ]
  },
  {
   "cell_type": "code",
   "execution_count": null,
   "metadata": {},
   "outputs": [],
   "source": [
    "# 1\n",
    "def john_welsh(sentence):\n",
    "    return sentence[::-1]"
   ]
  },
  {
   "cell_type": "code",
   "execution_count": null,
   "metadata": {},
   "outputs": [],
   "source": [
    "# 2\n",
    "def stoker(sentence):\n",
    "    input_ = sentence.split()\n",
    "    for i in range(len(input_)):\n",
    "        input_[i] = input_[i][::-1]\n",
    "    return input_"
   ]
  },
  {
   "cell_type": "code",
   "execution_count": 178,
   "metadata": {},
   "outputs": [],
   "source": [
    "# 3\n",
    "def lucy(sentence):\n",
    "    input_ = sentence.lower().split()   # other ways to do multiple functions\n",
    "    for i in range(len(input_)):\n",
    "        output=\"\"\n",
    "        for a in range(len(input_[i])):\n",
    "            temp_letter = ord(input_[i][a]) + 1\n",
    "            if temp_letter == 123: \n",
    "                temp_letter = temp_letter - 26\n",
    "            output += chr(temp_letter)\n",
    "        input_[i] = output\n",
    "    output = \" \".join(input_)\n",
    "    return output"
   ]
  },
  {
   "cell_type": "code",
   "execution_count": 179,
   "metadata": {},
   "outputs": [],
   "source": [
    "# 4\n",
    "def dracula(sentence, shifts):\n",
    "    input_ = sentence.lower().split()   # other ways to do multiple functions\n",
    "    for i in range(len(input_)):\n",
    "        output=\"\"\n",
    "        for a in range(len(input_[i])):\n",
    "            temp_letter = ord(input_[i][a]) + shifts\n",
    "            if temp_letter > 122: \n",
    "                temp_letter = temp_letter - 26\n",
    "            output += chr(temp_letter)\n",
    "        input_[i] = output\n",
    "    output = \" \".join(input_)\n",
    "    return output"
   ]
  },
  {
   "cell_type": "code",
   "execution_count": 180,
   "metadata": {},
   "outputs": [
    {
     "data": {
      "text/plain": [
       "'nz obnf jt bmfy'"
      ]
     },
     "execution_count": 180,
     "metadata": {},
     "output_type": "execute_result"
    }
   ],
   "source": [
    "dracula(\"my name is alex\", 4)"
   ]
  }
 ],
 "metadata": {
  "kernelspec": {
   "display_name": "Python 3",
   "language": "python",
   "name": "python3"
  },
  "language_info": {
   "codemirror_mode": {
    "name": "ipython",
    "version": 3
   },
   "file_extension": ".py",
   "mimetype": "text/x-python",
   "name": "python",
   "nbconvert_exporter": "python",
   "pygments_lexer": "ipython3",
   "version": "3.7.3"
  }
 },
 "nbformat": 4,
 "nbformat_minor": 2
}
